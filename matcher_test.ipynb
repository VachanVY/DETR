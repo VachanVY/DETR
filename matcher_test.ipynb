{
 "cells": [
  {
   "cell_type": "code",
   "execution_count": 1,
   "metadata": {},
   "outputs": [
    {
     "name": "stderr",
     "output_type": "stream",
     "text": [
      "2024-03-05 16:50:20.864795: E external/local_xla/xla/stream_executor/cuda/cuda_dnn.cc:9261] Unable to register cuDNN factory: Attempting to register factory for plugin cuDNN when one has already been registered\n",
      "2024-03-05 16:50:20.864850: E external/local_xla/xla/stream_executor/cuda/cuda_fft.cc:607] Unable to register cuFFT factory: Attempting to register factory for plugin cuFFT when one has already been registered\n",
      "2024-03-05 16:50:20.890411: E external/local_xla/xla/stream_executor/cuda/cuda_blas.cc:1515] Unable to register cuBLAS factory: Attempting to register factory for plugin cuBLAS when one has already been registered\n",
      "2024-03-05 16:50:21.696554: W tensorflow/compiler/tf2tensorrt/utils/py_utils.cc:38] TF-TRT Warning: Could not find TensorRT\n"
     ]
    }
   ],
   "source": [
    "import jax\n",
    "from jax import (\n",
    "    Array,\n",
    "    numpy as jnp,\n",
    "    random as jrand,\n",
    "    lax\n",
    ")\n",
    "from scipy.optimize import linear_sum_assignment as scipy_lsa\n",
    "from typing import Sequence\n",
    "\n",
    "import keras as nn\n",
    "import keras_cv as ncv"
   ]
  },
  {
   "cell_type": "code",
   "execution_count": 2,
   "metadata": {},
   "outputs": [
    {
     "name": "stderr",
     "output_type": "stream",
     "text": [
      "2024-03-05 16:50:22.961253: W external/xla/xla/service/gpu/nvptx_compiler.cc:742] The NVIDIA driver's CUDA version is 12.2 which is older than the ptxas CUDA version (12.3.107). Because the driver is older than the ptxas version, XLA is disabling parallel compilation, which may slow down compilation. You should update your NVIDIA driver or use the NVIDIA-provided CUDA forward compatibility packages.\n"
     ]
    },
    {
     "name": "stdout",
     "output_type": "stream",
     "text": [
      "class_true (2, 3)\n",
      "class_pred (2, 3)\n",
      "class_prob (2, 3, 3)\n",
      "bbox_true (2, 3, 4)\n",
      "bbox_pred (2, 3, 4)\n",
      "\n",
      "maximum number of onbjects that can be detected is 3\n",
      "unique classes [0. 1. 2.]\n",
      "\n",
      "class_true\n",
      "[[1. 2. 0.]\n",
      " [2. 1. 0.]]\n",
      "\n",
      "class_pred\n",
      "[[1. 0. 2.]\n",
      " [0. 1. 2.]]\n",
      "\n",
      "class_prob\n",
      "[[[0.1 0.8 0.1]\n",
      "  [0.8 0.  0.2]\n",
      "  [0.1 0.  0.9]]\n",
      "\n",
      " [[0.9 0.  0.1]\n",
      "  [0.4 0.5 0.1]\n",
      "  [0.3 0.1 0.6]]]\n",
      "\n",
      "bbox_true\n",
      "[[[0.2 0.1 0.6 0.9]\n",
      "  [0.1 0.4 0.5 0.6]\n",
      "  [0.  0.  0.  0. ]]\n",
      "\n",
      " [[0.1 0.6 0.5 0.2]\n",
      "  [0.1 0.3 0.5 0.4]\n",
      "  [0.  0.  0.  0. ]]]\n",
      "\n",
      "bbox_pred\n",
      "[[[0.198  0.1    0.601  0.91  ]\n",
      "  [0.01   0.009  0.001  0.    ]\n",
      "  [0.101  0.39   0.501  0.601 ]]\n",
      "\n",
      " [[0.01   0.009  0.001  0.    ]\n",
      "  [0.11   0.298  0.499  0.39  ]\n",
      "  [0.11   0.62   0.501  0.2009]]]\n",
      "\n"
     ]
    }
   ],
   "source": [
    "# possible classes = [0, 1, 2]\n",
    "class_true = jnp.array([[1, 2, 0], \n",
    "                        [2, 1, 0]], dtype=jnp.float32)\n",
    "print(\"class_true\", class_true.shape) # (B, N)\n",
    "class_pred = jnp.array([[1, 0, 2], \n",
    "                        [0, 1, 2]], dtype=jnp.float32)\n",
    "print(\"class_pred\", class_pred.shape) # (B, N)\n",
    "N = class_true.shape[-1]\n",
    "\n",
    "class_prob = jnp.array([[[0.1, 0.8, 0.1], # (B, N, n_classes)\n",
    "                        [0.8, 0.0, 0.2],\n",
    "                        [0.1, 0.0, 0.9]],\n",
    "                       [[0.9, 0.0, 0.1],\n",
    "                        [0.4, 0.5, 0.1],\n",
    "                        [0.3, 0.1, 0.6]]], dtype=jnp.float32)\n",
    "print(\"class_prob\", class_prob.shape)\n",
    "bbox_true = jnp.array([[[0.2, 0.1, 0.6, 0.9],           # 1\n",
    "                       [0.1, 0.4, 0.5, 0.6],            # 2\n",
    "                       [0.0, 0.0, 0.0, 0.0]],           # 0\n",
    "                       [[0.1, 0.6, 0.5, 0.2],        # 2\n",
    "                        [0.1, 0.3, 0.5, 0.4],         # 1\n",
    "                        [0.0, 0.0, 0.0, 0.0]]],      # 0\n",
    "                            dtype=jnp.float32) # (B, N, 4)\n",
    "print(\"bbox_true\", bbox_true.shape)\n",
    "bbox_pred = jnp.array([[[0.198, 0.1, 0.601, 0.91],                           # 1\n",
    "                       [0.01, 0.009, 0.001, 0.0],                            # 0\n",
    "                       [0.101, 0.39, 0.501, 0.601]],                         # 2\n",
    "                      [[0.01, 0.009, 0.001, 0.0],                    # 0\n",
    "                       [0.11, 0.298, 0.499, 0.39],                # 1\n",
    "                       [0.11, 0.62, 0.501, 0.2009]]],                # 2\n",
    "                            dtype=jnp.float32) # (B, N, 4)\n",
    "print(\"bbox_pred\", bbox_pred.shape)\n",
    "\n",
    "print(\"\\nmaximum number of onbjects that can be detected is\", N)\n",
    "print(\"unique classes\", jnp.unique(class_true), end=\"\\n\\n\")\n",
    "\n",
    "print(\"class_true\", class_true, end=\"\\n\\n\", sep=\"\\n\")\n",
    "print(\"class_pred\", class_pred, end=\"\\n\\n\", sep=\"\\n\")\n",
    "print(\"class_prob\", class_prob, end=\"\\n\\n\", sep=\"\\n\")\n",
    "print(\"bbox_true\", bbox_true, end=\"\\n\\n\", sep=\"\\n\")\n",
    "print(\"bbox_pred\", bbox_pred, end=\"\\n\\n\", sep=\"\\n\")"
   ]
  },
  {
   "cell_type": "code",
   "execution_count": 3,
   "metadata": {},
   "outputs": [
    {
     "data": {
      "text/plain": [
       "(Array(3.3262436, dtype=float32),\n",
       " Array(1.3891453, dtype=float32),\n",
       " Array(0.86316156, dtype=float32))"
      ]
     },
     "execution_count": 3,
     "metadata": {},
     "output_type": "execute_result"
    }
   ],
   "source": [
    "def BoxLoss(bbox_true:Array, bbox_pred:Array, lambda_giou:float=2., lambda_l1:float=5.):\n",
    "    giou_loss = lambda_giou*ncv.losses.GIoULoss(bounding_box_format=\"xyWH\")(bbox_true, bbox_pred)\n",
    "    l1_loss = lambda_l1*nn.losses.MeanAbsoluteError()(bbox_true, bbox_pred)\n",
    "    return giou_loss + l1_loss\n",
    "\n",
    "def ClassLoss(class_true:Array, class_prob:Array, down_weight_no_object_class:bool=False):\n",
    "    sample_weight = jnp.where(class_true==0, 0.1, 1.) if down_weight_no_object_class else None # downsample no_object class by 10% if True\n",
    "    return nn.losses.SparseCategoricalCrossentropy()(class_true, class_prob, sample_weight=sample_weight) # -logprob(class_true)\n",
    "\n",
    "########## Test ############\n",
    "BoxLoss(bbox_true[0], bbox_pred[0]), ClassLoss(class_true, class_prob, False), ClassLoss(class_true, class_prob, True)"
   ]
  },
  {
   "cell_type": "code",
   "execution_count": 4,
   "metadata": {},
   "outputs": [
    {
     "data": {
      "text/plain": [
       "(Array(0.0480862, dtype=float32),\n",
       " Array([[0.2, 0.1, 0.6, 0.9]], dtype=float32),\n",
       " Array([[0.198, 0.1  , 0.601, 0.91 ]], dtype=float32))"
      ]
     },
     "execution_count": 4,
     "metadata": {},
     "output_type": "execute_result"
    }
   ],
   "source": [
    "BoxLoss(bbox_true[0][0][None], bbox_pred[0][0][None]), bbox_true[0][0][None], bbox_pred[0][0][None]"
   ]
  },
  {
   "cell_type": "code",
   "execution_count": 5,
   "metadata": {},
   "outputs": [
    {
     "name": "stdout",
     "output_type": "stream",
     "text": [
      "class_true\n",
      "[[1. 2. 0.]\n",
      " [2. 1. 0.]]\n",
      "\n",
      "class_pred\n",
      "[[1. 0. 2.]\n",
      " [0. 1. 2.]]\n",
      "\n",
      "class_prob\n",
      "[[[0.1 0.8 0.1]\n",
      "  [0.8 0.  0.2]\n",
      "  [0.1 0.  0.9]]\n",
      "\n",
      " [[0.9 0.  0.1]\n",
      "  [0.4 0.5 0.1]\n",
      "  [0.3 0.1 0.6]]]\n",
      "\n",
      "bbox_true\n",
      "[[[0.2 0.1 0.6 0.9]\n",
      "  [0.1 0.4 0.5 0.6]\n",
      "  [0.  0.  0.  0. ]]\n",
      "\n",
      " [[0.1 0.6 0.5 0.2]\n",
      "  [0.1 0.3 0.5 0.4]\n",
      "  [0.  0.  0.  0. ]]]\n",
      "\n",
      "bbox_pred\n",
      "[[[0.198  0.1    0.601  0.91  ]\n",
      "  [0.01   0.009  0.001  0.    ]\n",
      "  [0.101  0.39   0.501  0.601 ]]\n",
      "\n",
      " [[0.01   0.009  0.001  0.    ]\n",
      "  [0.11   0.298  0.499  0.39  ]\n",
      "  [0.11   0.62   0.501  0.2009]]]\n",
      "\n"
     ]
    }
   ],
   "source": [
    "print(\"class_true\", class_true, end=\"\\n\\n\", sep=\"\\n\")\n",
    "print(\"class_pred\", class_pred, end=\"\\n\\n\", sep=\"\\n\")\n",
    "print(\"class_prob\", class_prob, end=\"\\n\\n\", sep=\"\\n\")\n",
    "print(\"bbox_true\", bbox_true, end=\"\\n\\n\", sep=\"\\n\")\n",
    "print(\"bbox_pred\", bbox_pred, end=\"\\n\\n\", sep=\"\\n\")"
   ]
  },
  {
   "cell_type": "code",
   "execution_count": 6,
   "metadata": {},
   "outputs": [
    {
     "data": {
      "text/plain": [
       "[[0, 2, 1], [2, 1, 0]]"
      ]
     },
     "execution_count": 6,
     "metadata": {},
     "output_type": "execute_result"
    }
   ],
   "source": [
    "[[0, 2, 1],\n",
    " [2, 1, 0]]"
   ]
  },
  {
   "cell_type": "code",
   "execution_count": 7,
   "metadata": {},
   "outputs": [],
   "source": [
    "@jax.jit\n",
    "def MatchLoss(class_true:Array, class_prob:Array, bbox_true:Array, bbox_pred:Array):\n",
    "    \"\"\"```\n",
    "    Inouts:\n",
    "        class_true:Array => shape(,)\n",
    "        class_prob:Array => shape(,)\n",
    "        bbox_true:Array => shape(4,)\n",
    "        bbox_pred:Array => shape(4,)\n",
    "    Outputs:\n",
    "        match_loss:Array => shape(,)\n",
    "    ```\"\"\"\n",
    "    class_bool = (class_true!=0).astype(float) # int(not class_true==0)\n",
    "    # class_true = no_object = 0 => int(not True) = 0\n",
    "    # class_true != no_object != 0 => int(not False) = 1\n",
    "    \n",
    "    match_loss = -class_bool*class_prob + class_bool*BoxLoss(bbox_true[None], bbox_pred[None])\n",
    "    return match_loss"
   ]
  },
  {
   "cell_type": "code",
   "execution_count": 8,
   "metadata": {},
   "outputs": [],
   "source": [
    "C = jnp.zeros((2, N, N))\n",
    "for b in range(2):\n",
    "    for i in range(N): # [0, 1, 2]\n",
    "        for j in range(N): # [0, 1, 2]\n",
    "            C = C.at[b, i, j].set(MatchLoss(class_true[b][i], class_prob[b][j, class_true[b][i].astype(int)], bbox_true[b][i], bbox_pred[b][j]))"
   ]
  },
  {
   "cell_type": "code",
   "execution_count": 9,
   "metadata": {},
   "outputs": [
    {
     "data": {
      "text/plain": [
       "Array([[[-0.7519138 ,  4.8454957 ,  2.271843  ],\n",
       "        [ 2.2103505 ,  4.748815  , -0.8098676 ],\n",
       "        [ 0.        ,  0.        ,  0.        ]],\n",
       "\n",
       "       [[ 5.1964498 ,  2.2173624 , -0.12120765],\n",
       "        [ 4.618862  , -0.3294528 ,  2.2982922 ],\n",
       "        [ 0.        ,  0.        ,  0.        ]]], dtype=float32)"
      ]
     },
     "execution_count": 9,
     "metadata": {},
     "output_type": "execute_result"
    }
   ],
   "source": [
    "C"
   ]
  },
  {
   "cell_type": "code",
   "execution_count": 10,
   "metadata": {},
   "outputs": [],
   "source": [
    "class Matcher:\n",
    "    def __init__(self, vmaped:bool=True):\n",
    "        self.vmaped:bool = vmaped\n",
    "\n",
    "    @staticmethod\n",
    "    @jax.jit\n",
    "    def MatchLoss(class_true:Array, class_prob:Array, bbox_true:Array, bbox_pred:Array):\n",
    "        \"\"\"```\n",
    "        Inouts:\n",
    "            class_true:Array => shape(,)\n",
    "            class_prob:Array => shape(,)\n",
    "            bbox_true:Array => shape(4,)\n",
    "            bbox_pred:Array => shape(4,)\n",
    "        Outputs:\n",
    "            match_loss:Array => shape(,)\n",
    "        ```\"\"\"\n",
    "        class_bool = (class_true!=0).astype(float) # int(not class_true==0)\n",
    "        # class_true = no_object = 0 => int(not True) = 0\n",
    "        # class_true != no_object != 0 => int(not False) = 1\n",
    "        \n",
    "        match_loss = -class_bool*class_prob + class_bool*BoxLoss(bbox_true[None], bbox_pred[None])\n",
    "        return match_loss\n",
    "    \n",
    "    @staticmethod\n",
    "    @jax.jit\n",
    "    def compute_unbatched_cost_matrix(class_true:Array, class_prob:Array, bbox_true:Array, bbox_pred:Array):\n",
    "        \"\"\"```\n",
    "        Inputs:\n",
    "            class_true:Array => shape(N,)\n",
    "            class_prob:Array => shape(N, num_classes)\n",
    "            bbox_true:Array => shape(N, 4)\n",
    "            bbox_pred:Array => shape(N, 4)\n",
    "        Outputs:\n",
    "            unbatched_cost:Array => shape(N, N)\n",
    "        ```\"\"\"\n",
    "        N = class_true.shape[0]\n",
    "        cost_i = lambda i: jax.vmap(lambda j: Matcher.MatchLoss(\n",
    "            class_true[i],\n",
    "            class_prob[j, class_true[i].astype(int)],\n",
    "            bbox_true[i],\n",
    "            bbox_pred[j]\n",
    "        ), in_axes=0, out_axes=0)(jnp.arange(N))\n",
    "        unbatched_cost = jax.vmap(lambda i: cost_i(i), in_axes=0, out_axes=0)(jnp.arange(N))\n",
    "        return unbatched_cost # (N, N)\n",
    "    \n",
    "    @staticmethod\n",
    "    @jax.jit\n",
    "    def compute_batched_cost_matrix(class_true:Array, class_prob:Array, bbox_true:Array, bbox_pred:Array):\n",
    "        \"\"\"```\n",
    "        Inputs:\n",
    "            class_true:Array => shape(B, N)\n",
    "            class_prob:Array => shape(B, N, num_classes)\n",
    "            bbox_true:Array => shape(B, N, 4)\n",
    "            bbox_pred:Array => shape(B, N, 4)\n",
    "        Outputs:\n",
    "            C:Array => shape(B, N, N)\n",
    "        ```\"\"\"\n",
    "        batch_size = class_true.shape[0]\n",
    "        C = jax.vmap(lambda B: Matcher.compute_unbatched_cost_matrix(\n",
    "            class_true[B], class_prob[B], bbox_true[B], bbox_pred[B]\n",
    "        ), in_axes=0, out_axes=0)(jnp.arange(batch_size))\n",
    "        return C # (B, N, N)\n",
    "    \n",
    "    @staticmethod\n",
    "    @jax.jit\n",
    "    def unvmaped_compute_batched_cost_matrix(class_true:Array, class_prob:Array, bbox_true:Array, bbox_pred:Array):\n",
    "        \"\"\"```\n",
    "        Inputs:\n",
    "            class_true:Array => shape(B, N)\n",
    "            class_prob:Array => shape(B, N, num_classes)\n",
    "            bbox_true:Array => shape(B, N, 4)\n",
    "            bbox_pred:Array => shape(B, N, 4)\n",
    "        ```\"\"\"\n",
    "        batch_size = len(class_true)\n",
    "        C = jnp.zeros((batch_size, N, N))\n",
    "        for b in range(batch_size):\n",
    "            for i in range(N):\n",
    "                for j in range(N):\n",
    "                    C = C.at[b, i, j].set(\n",
    "                        Matcher.MatchLoss(\n",
    "                            class_true[b][i],\n",
    "                            class_prob[b][j, class_true[b][i].astype(int)], # prob of true class\n",
    "                            bbox_true[b][i],\n",
    "                            bbox_pred[b][j]\n",
    "                        )\n",
    "                    )\n",
    "        return C\n",
    "\n",
    "    @staticmethod\n",
    "    # Cannot jit this function as linear_sum_assignment is used which is a numpy function not a jax function\n",
    "    def match(class_true:Array, class_prob:Array, bbox_true:Array, bbox_pred:Array, vmaped:bool=True):\n",
    "        \"\"\"```\n",
    "        Inputs:\n",
    "            class_true:Array => shape(B, N)\n",
    "            class_prob:Array => shape(B, N, num_classes)\n",
    "            bbox_true:Array => shape(B, N, 4)\n",
    "            bbox_pred:Array => shape(B, N, 4)\n",
    "        Outputs:\n",
    "            matched_class_prob:Array => shape(B, N, num_classes)\n",
    "            matched_bbox_pred:Array => shape(B, N, 4)\n",
    "        ```\"\"\"\n",
    "        C:Array = Matcher.compute_batched_cost_matrix( # (B, N, N)\n",
    "                    class_true, class_prob, bbox_true, bbox_pred\n",
    "                ) if vmaped else Matcher.unvmaped_compute_batched_cost_matrix(\n",
    "                    class_true, class_prob, bbox_true, bbox_pred\n",
    "                )\n",
    "        to_indices = jnp.stack(list(map(lambda Cb: scipy_lsa(Cb)[1], C)))[..., None] # (B, N, 1)\n",
    "\n",
    "        matched_class_prob = jnp.take_along_axis(class_prob, to_indices, axis=1) # (B, N, num_classes)\n",
    "        matched_bbox_pred = jnp.take_along_axis(bbox_pred, to_indices, axis=1)   # (B, N, 4)\n",
    "        return matched_class_prob, matched_bbox_pred # (B, N, num_classes), (B, N, 4)\n",
    "    \n",
    "    def __call__(self, y_true:Sequence[Array], y_pred:Sequence[Array]):\n",
    "        (class_true, bbox_true), (class_prob, bbox_pred) = y_true, y_pred\n",
    "        (class_true, bbox_true) = lax.stop_gradient(class_true.astype(int)), lax.stop_gradient(bbox_true)\n",
    "        (class_prob, bbox_pred) = lax.stop_gradient(class_prob), lax.stop_gradient(bbox_pred)\n",
    "\n",
    "        y_matched_pred = Matcher.match(class_true, class_prob, bbox_true, bbox_pred, vmaped=self.vmaped)\n",
    "        return y_matched_pred"
   ]
  },
  {
   "cell_type": "code",
   "execution_count": 13,
   "metadata": {},
   "outputs": [
    {
     "data": {
      "text/plain": [
       "(Array([[[0.1, 0.8, 0.1],\n",
       "         [0.8, 0. , 0.2],\n",
       "         [0.1, 0. , 0.9]],\n",
       " \n",
       "        [[0.9, 0. , 0.1],\n",
       "         [0.4, 0.5, 0.1],\n",
       "         [0.3, 0.1, 0.6]]], dtype=float32),\n",
       " Array([[[0.198 , 0.1   , 0.601 , 0.91  ],\n",
       "         [0.01  , 0.009 , 0.001 , 0.    ],\n",
       "         [0.101 , 0.39  , 0.501 , 0.601 ]],\n",
       " \n",
       "        [[0.01  , 0.009 , 0.001 , 0.    ],\n",
       "         [0.11  , 0.298 , 0.499 , 0.39  ],\n",
       "         [0.11  , 0.62  , 0.501 , 0.2009]]], dtype=float32),\n",
       " Array([[1., 0., 2.],\n",
       "        [0., 1., 2.]], dtype=float32),\n",
       " Array([[1., 2., 0.],\n",
       "        [2., 1., 0.]], dtype=float32))"
      ]
     },
     "execution_count": 13,
     "metadata": {},
     "output_type": "execute_result"
    }
   ],
   "source": [
    "class_prob, bbox_pred, class_pred, class_true"
   ]
  },
  {
   "cell_type": "code",
   "execution_count": 12,
   "metadata": {},
   "outputs": [
    {
     "data": {
      "text/plain": [
       "(Array([[[0.1, 0.8, 0.1],\n",
       "         [0.1, 0. , 0.9],\n",
       "         [0.8, 0. , 0.2]],\n",
       " \n",
       "        [[0.3, 0.1, 0.6],\n",
       "         [0.4, 0.5, 0.1],\n",
       "         [0.9, 0. , 0.1]]], dtype=float32),\n",
       " Array([[[0.198 , 0.1   , 0.601 , 0.91  ],\n",
       "         [0.101 , 0.39  , 0.501 , 0.601 ],\n",
       "         [0.01  , 0.009 , 0.001 , 0.    ]],\n",
       " \n",
       "        [[0.11  , 0.62  , 0.501 , 0.2009],\n",
       "         [0.11  , 0.298 , 0.499 , 0.39  ],\n",
       "         [0.01  , 0.009 , 0.001 , 0.    ]]], dtype=float32))"
      ]
     },
     "execution_count": 12,
     "metadata": {},
     "output_type": "execute_result"
    }
   ],
   "source": [
    "Matcher()(y_true=(class_true, bbox_true), y_pred=(class_prob, bbox_pred))"
   ]
  },
  {
   "cell_type": "code",
   "execution_count": 14,
   "metadata": {},
   "outputs": [
    {
     "name": "stdout",
     "output_type": "stream",
     "text": [
      "class_true (2, 3)\n",
      "class_pred (2, 3)\n",
      "class_prob (2, 3, 3)\n",
      "bbox_true (2, 3, 4)\n",
      "bbox_pred (2, 3, 4)\n",
      "\n",
      "maximum number of onbjects that can be detected is 3\n",
      "unique classes [0. 1. 2.]\n",
      "\n",
      "class_true\n",
      "[[1. 2. 0.]\n",
      " [2. 1. 0.]]\n",
      "\n",
      "class_pred\n",
      "[[1. 0. 2.]\n",
      " [0. 1. 2.]]\n",
      "\n",
      "class_prob\n",
      "[[[0.1 0.8 0.1]\n",
      "  [0.8 0.  0.2]\n",
      "  [0.1 0.  0.9]]\n",
      "\n",
      " [[0.9 0.  0.1]\n",
      "  [0.4 0.5 0.1]\n",
      "  [0.3 0.1 0.6]]]\n",
      "\n",
      "bbox_true\n",
      "[[[0.2 0.1 0.6 0.9]\n",
      "  [0.1 0.4 0.5 0.6]\n",
      "  [0.  0.  0.  0. ]]\n",
      "\n",
      " [[0.1 0.6 0.5 0.2]\n",
      "  [0.1 0.3 0.5 0.4]\n",
      "  [0.  0.  0.  0. ]]]\n",
      "\n",
      "bbox_pred\n",
      "[[[0.198  0.1    0.601  0.91  ]\n",
      "  [0.01   0.009  0.001  0.    ]\n",
      "  [0.101  0.39   0.501  0.601 ]]\n",
      "\n",
      " [[0.01   0.009  0.001  0.    ]\n",
      "  [0.11   0.298  0.499  0.39  ]\n",
      "  [0.11   0.62   0.501  0.2009]]]\n",
      "\n"
     ]
    }
   ],
   "source": [
    "# possible classes = [0, 1, 2]\n",
    "class_true = jnp.array([[1, 2, 0], \n",
    "                        [2, 1, 0]], dtype=jnp.float32)\n",
    "print(\"class_true\", class_true.shape) # (B, N)\n",
    "class_pred = jnp.array([[1, 0, 2], \n",
    "                        [0, 1, 2]], dtype=jnp.float32)\n",
    "print(\"class_pred\", class_pred.shape) # (B, N)\n",
    "N = class_true.shape[-1]\n",
    "\n",
    "class_prob = jnp.array([[[0.1, 0.8, 0.1], # (B, N, n_classes)\n",
    "                        [0.8, 0.0, 0.2],\n",
    "                        [0.1, 0.0, 0.9]],\n",
    "                       [[0.9, 0.0, 0.1],\n",
    "                        [0.4, 0.5, 0.1],\n",
    "                        [0.3, 0.1, 0.6]]], dtype=jnp.float32)\n",
    "print(\"class_prob\", class_prob.shape)\n",
    "bbox_true = jnp.array([[[0.2, 0.1, 0.6, 0.9],           # 1\n",
    "                       [0.1, 0.4, 0.5, 0.6],            # 2\n",
    "                       [0.0, 0.0, 0.0, 0.0]],           # 0\n",
    "                       [[0.1, 0.6, 0.5, 0.2],        # 2\n",
    "                        [0.1, 0.3, 0.5, 0.4],         # 1\n",
    "                        [0.0, 0.0, 0.0, 0.0]]],      # 0\n",
    "                            dtype=jnp.float32) # (B, N, 4)\n",
    "print(\"bbox_true\", bbox_true.shape)\n",
    "bbox_pred = jnp.array([[[0.198, 0.1, 0.601, 0.91],                           # 1\n",
    "                       [0.01, 0.009, 0.001, 0.0],                            # 0\n",
    "                       [0.101, 0.39, 0.501, 0.601]],                         # 2\n",
    "                      [[0.01, 0.009, 0.001, 0.0],                    # 0\n",
    "                       [0.11, 0.298, 0.499, 0.39],                # 1\n",
    "                       [0.11, 0.62, 0.501, 0.2009]]],                # 2\n",
    "                            dtype=jnp.float32) # (B, N, 4)\n",
    "print(\"bbox_pred\", bbox_pred.shape)\n",
    "\n",
    "print(\"\\nmaximum number of onbjects that can be detected is\", N)\n",
    "print(\"unique classes\", jnp.unique(class_true), end=\"\\n\\n\")\n",
    "\n",
    "print(\"class_true\", class_true, end=\"\\n\\n\", sep=\"\\n\")\n",
    "print(\"class_pred\", class_pred, end=\"\\n\\n\", sep=\"\\n\")\n",
    "print(\"class_prob\", class_prob, end=\"\\n\\n\", sep=\"\\n\")\n",
    "print(\"bbox_true\", bbox_true, end=\"\\n\\n\", sep=\"\\n\")\n",
    "print(\"bbox_pred\", bbox_pred, end=\"\\n\\n\", sep=\"\\n\")"
   ]
  },
  {
   "cell_type": "code",
   "execution_count": null,
   "metadata": {},
   "outputs": [],
   "source": [
    "class_true = jrand.uniform(jrand.PRNGKey(42), shape=())"
   ]
  },
  {
   "cell_type": "code",
   "execution_count": null,
   "metadata": {},
   "outputs": [],
   "source": []
  },
  {
   "cell_type": "code",
   "execution_count": null,
   "metadata": {},
   "outputs": [],
   "source": []
  }
 ],
 "metadata": {
  "kernelspec": {
   "display_name": "Python 3",
   "language": "python",
   "name": "python3"
  },
  "language_info": {
   "codemirror_mode": {
    "name": "ipython",
    "version": 3
   },
   "file_extension": ".py",
   "mimetype": "text/x-python",
   "name": "python",
   "nbconvert_exporter": "python",
   "pygments_lexer": "ipython3",
   "version": "3.11.undefined"
  }
 },
 "nbformat": 4,
 "nbformat_minor": 2
}
